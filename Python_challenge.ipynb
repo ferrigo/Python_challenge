{
 "cells": [
  {
   "cell_type": "markdown",
   "id": "fee80189",
   "metadata": {},
   "source": [
    "# Python_Challenge\n",
    "\n",
    "## Paint Store\n",
    "\n",
    "Make a Program for a paint store. The program should request the size in square meters of the area to be painted. Consider that the paint coverage is 1 liter for each 6 square meters and that the paint is sold in 18 liter cans, that cost 80,00 BRL or in 3,6 liter gallons, that cost 25,00 BRL."
   ]
  },
  {
   "cell_type": "markdown",
   "id": "0d5fa10a",
   "metadata": {},
   "source": [
    "## Inform the user of the quantities of paint to be purchased and the respective prices in 3 situations.\n",
    "\n",
    "### 1. Buy 18-liter cans only: ( full cans only )"
   ]
  },
  {
   "cell_type": "code",
   "execution_count": 1,
   "id": "bc38cdcd",
   "metadata": {},
   "outputs": [
    {
     "name": "stdout",
     "output_type": "stream",
     "text": [
      "What is the area to be painted (m²)? 250\n",
      "Number of cans 3\n",
      "Price 240\n"
     ]
    }
   ],
   "source": [
    "# Solution method:\n",
    "\n",
    "# Identify the area to be painted\n",
    "\n",
    "area = int(input('What is the area to be painted (m²)? '))\n",
    "\n",
    "# Identify how many liters of paint the client needs (area/6)\n",
    "\n",
    "liters = area / 6\n",
    "\n",
    "# How many cans will be needed for the amount of liters\n",
    "# Calculate numbers of cans (liters/18)\n",
    "# Round the result (Check if the result was integer or float), if float, add one more can.\n",
    "\n",
    "cans = liters / 18\n",
    "\n",
    "if int(cans) != cans:\n",
    "    cans = int(cans) + 1\n",
    "\n",
    "# Calculate the price of the cans (amount of cans * R$80)\n",
    "\n",
    "price = cans * 80\n",
    "\n",
    "print(\"Number of cans\", cans)\n",
    "print(\"Price\", price)"
   ]
  },
  {
   "cell_type": "markdown",
   "id": "15dc7322",
   "metadata": {},
   "source": [
    "### 2. Buy only gallons of 3.6 liters: (only full gallons)"
   ]
  },
  {
   "cell_type": "code",
   "execution_count": 2,
   "id": "6e0a01af",
   "metadata": {},
   "outputs": [
    {
     "name": "stdout",
     "output_type": "stream",
     "text": [
      "What is the area to be painted (m²)? 250\n",
      "Number of gallons 12\n",
      "Price 300\n"
     ]
    }
   ],
   "source": [
    "# I use \"variable2 and variable3\" in all variables so that they do not interfere with the code already developed in previous exercises.\n",
    "\n",
    "area_2 = int(input('What is the area to be painted (m²)? '))\n",
    "\n",
    "liters_2 = area_2 / 6\n",
    "\n",
    "if liters_2 % 3.6 > 0:\n",
    "    gallons = int(liters_2 / 3.6) + 1\n",
    "else:\n",
    "    gallons = liters_2 / 3.6\n",
    "    \n",
    "price = gallons * 25\n",
    "\n",
    "print(\"Number of gallons\", gallons)\n",
    "print(\"Price\", price)"
   ]
  },
  {
   "cell_type": "markdown",
   "id": "35e0aa11",
   "metadata": {},
   "source": [
    "### 3. Mix cans and gallons, so that the waste of paint is reduced. Always round up the values, which means consider full cans."
   ]
  },
  {
   "cell_type": "markdown",
   "id": "95a3d342",
   "metadata": {},
   "source": [
    "The cost of the can is 80/18 = 4.44\\$/L\n",
    "\n",
    "The cost of the gallon is 25/3.6 = 6.94 R\\\\$/L\n",
    "\n",
    "The can is more economical, so all the full cans that we can use we should buy in cans. If something is missing to complete we should evaluate whether it is better to buy cans or gallons. Example:\n",
    "\n",
    "If we want to buy 90 liters. 5 cans give us exactly 90 liters. Then we should buy everything in cans.\n",
    "\n",
    "If we want to buy 95 liters. 5 cans give exactly 90 liters. Then we should buy at least 5 cans and evaluate what is missing, whether these last 5 liters are worth more in cans or gallons only.\n",
    "\n",
    "For the missing 5 liters we need 2 gallons that cost 50 BRL in total. Or a can that costs 80 reais in total. So in this case it is more worthwhile to use 2 gallons.\n",
    "\n",
    "If we want to buy 107 liters. 5 cans give us exactly 90 liters. So we should buy at least 5 cans and evaluate what is missing, whether these last 5 liters are worth more in cans or gallons alone.\n",
    "\n",
    "For the missing 17 liters we need 5 gallons that cost 125 BRL in total. Or a can that costs 80 reais in total. So in this case it is more worthwhile to use a can.\n",
    "\n",
    "3 gallons cost 75 reais, 4 gallons cost 100 BRL. So, if it is possible to fill up to 3 gallons, you choose gallons. Any quantity larger than 3 gallons, you use cans.\n",
    "\n",
    "Solution:"
   ]
  },
  {
   "cell_type": "code",
   "execution_count": 3,
   "id": "0e9847d9",
   "metadata": {},
   "outputs": [
    {
     "name": "stdout",
     "output_type": "stream",
     "text": [
      "What is the area to be painted (m²)? 250\n",
      "Cans: 2\n",
      "Gallons 2\n",
      "Final price: 210\n"
     ]
    }
   ],
   "source": [
    "area_3 = int(input('What is the area to be painted (m²)? '))\n",
    "\n",
    "liters_3 = area_3 / 6\n",
    "\n",
    "cans_3 = int(liters_3 / 18)\n",
    "cans_3_rest = liters_3 % 18\n",
    "\n",
    "if cans_3_rest > 0:\n",
    "    if cans_3_rest % 3.6 > 0:\n",
    "        gallons = int(cans_3_rest / 3.6) + 1\n",
    "    else:\n",
    "        gallons = cans_3_rest / 3.6\n",
    "\n",
    "# Solution method for the most economical purchasing:\n",
    "\n",
    "# Price Calculation:\n",
    "    # total_full_cans * 80\n",
    "\n",
    "price_cans = cans_3 * 80\n",
    "    \n",
    "    # if total_full_gallons * 25 > 80\n",
    "    \n",
    "price_gallons = gallons * 25\n",
    "\n",
    "if price_gallons > 80:\n",
    "    cans_3 = cans_3 + 1\n",
    "    price_cans = cans_3 * 80\n",
    "    gallons = 0\n",
    "    price_gallons = 0\n",
    "    \n",
    "final_price = price_cans + price_gallons\n",
    "print('Cans:', cans_3)\n",
    "print('Gallons', gallons)\n",
    "print('Final price:', final_price)"
   ]
  }
 ],
 "metadata": {
  "kernelspec": {
   "display_name": "Python 3 (ipykernel)",
   "language": "python",
   "name": "python3"
  },
  "language_info": {
   "codemirror_mode": {
    "name": "ipython",
    "version": 3
   },
   "file_extension": ".py",
   "mimetype": "text/x-python",
   "name": "python",
   "nbconvert_exporter": "python",
   "pygments_lexer": "ipython3",
   "version": "3.9.13"
  }
 },
 "nbformat": 4,
 "nbformat_minor": 5
}
